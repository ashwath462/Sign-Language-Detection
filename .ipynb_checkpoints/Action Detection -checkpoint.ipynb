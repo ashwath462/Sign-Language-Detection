{
 "cells": [
  {
   "cell_type": "code",
   "execution_count": 2,
   "id": "c8235cfc",
   "metadata": {},
   "outputs": [],
   "source": [
    "!pip install tensorflow==2.9.1 tensorflow-gpu==2.9.1 opencv-python mediapipe sklearn matplotlib"
   ]
  },
  {
   "cell_type": "code",
   "execution_count": 2,
   "id": "f73ab17c",
   "metadata": {},
   "outputs": [],
   "source": [
    "import cv2\n",
    "import numpy as np\n",
    "import os\n",
    "from matplotlib import pyplot as plt\n",
    "import time \n",
    "import mediapipe as mp"
   ]
  },
  {
   "cell_type": "markdown",
   "id": "1129d499",
   "metadata": {},
   "source": [
    "# Mediapipe Holictics"
   ]
  },
  {
   "cell_type": "code",
   "execution_count": 3,
   "id": "584b318f",
   "metadata": {},
   "outputs": [],
   "source": [
    "mp_holistics_model = mp.solutions.holistic\n",
    "mp_drawing_utilities = mp.solutions.drawing_utils"
   ]
  },
  {
   "cell_type": "code",
   "execution_count": 4,
   "id": "74e3ae36",
   "metadata": {},
   "outputs": [],
   "source": [
    "def mediapipe_detection(img, model):\n",
    "    img = cv2.cvtColor(img, cv2.COLOR_BGR2RGB)\n",
    "    img.flags.writeable = False  #img will be non writeable\n",
    "    results = model.process(img) #making prediction\n",
    "    img.flags.writeable = True   #img will be writeable again\n",
    "    img = cv2.cvtColor(img, cv2.COLOR_RGB2BGR)\n",
    "    return img, results"
   ]
  },
  {
   "cell_type": "code",
   "execution_count": 5,
   "id": "a1314f5b",
   "metadata": {},
   "outputs": [],
   "source": [
    "def draw_landmarks(img,results):\n",
    "    mp_drawing_utilities.draw_landmarks(img, results.face_landmarks, mp_holistics_model.FACEMESH_TESSELATION)\n",
    "    mp_drawing_utilities.draw_landmarks(img, results.pose_landmarks, mp_holistics_model.POSE_CONNECTIONS)\n",
    "    mp_drawing_utilities.draw_landmarks(img, results.left_hand_landmarks, mp_holistics_model.HAND_CONNECTIONS)\n",
    "    mp_drawing_utilities.draw_landmarks(img, results.right_hand_landmarks, mp_holistics_model.HAND_CONNECTIONS)"
   ]
  },
  {
   "cell_type": "code",
   "execution_count": 6,
   "id": "560d3698",
   "metadata": {},
   "outputs": [],
   "source": [
    "def draw_styled_landmarks(img,results):\n",
    "    mp_drawing_utilities.draw_landmarks(img, results.face_landmarks, mp_holistics_model.FACEMESH_TESSELATION,\n",
    "                                       mp_drawing_utilities.DrawingSpec(color=(80,110,10), thickness=1, circle_radius=1),\n",
    "                                       mp_drawing_utilities.DrawingSpec(color=(80,255,121),thickness=1,circle_radius=1)\n",
    "                                       )\n",
    "    mp_drawing_utilities.draw_landmarks(img, results.pose_landmarks, mp_holistics_model.POSE_CONNECTIONS,\n",
    "                                       mp_drawing_utilities.DrawingSpec(color=(80,22,10), thickness=2, circle_radius=4),\n",
    "                                       mp_drawing_utilities.DrawingSpec(color=(80,44,121),thickness=2,circle_radius=2)\n",
    "                                       )\n",
    "    mp_drawing_utilities.draw_landmarks(img, results.left_hand_landmarks, mp_holistics_model.HAND_CONNECTIONS,\n",
    "                                       mp_drawing_utilities.DrawingSpec(color=(121,22,76), thickness=1, circle_radius=4),\n",
    "                                       mp_drawing_utilities.DrawingSpec(color=(121,44,250),thickness=1,circle_radius=2)\n",
    "                                       )\n",
    "    mp_drawing_utilities.draw_landmarks(img, results.right_hand_landmarks, mp_holistics_model.HAND_CONNECTIONS,\n",
    "                                       mp_drawing_utilities.DrawingSpec(color=(245,117,66), thickness=1, circle_radius=1),\n",
    "                                       mp_drawing_utilities.DrawingSpec(color=(245,66,230),thickness=1,circle_radius=1)\n",
    "                                       )"
   ]
  },
  {
   "cell_type": "code",
   "execution_count": 7,
   "id": "8a6f79ab",
   "metadata": {},
   "outputs": [],
   "source": [
    "#mp_holistics_model.POSE_CONNECTIONS"
   ]
  },
  {
   "cell_type": "code",
   "execution_count": 8,
   "id": "6f825605",
   "metadata": {},
   "outputs": [],
   "source": [
    "# mp_drawing_utilities.draw_landmarks??"
   ]
  },
  {
   "cell_type": "code",
   "execution_count": 9,
   "id": "ae5dfd40",
   "metadata": {},
   "outputs": [],
   "source": [
    "cap = cv2.VideoCapture(0)\n",
    "\n",
    "#Access mediapipe model\n",
    "with mp_holistics_model.Holistic(min_detection_confidence=0.5, min_tracking_confidence=0.5) as holistic:\n",
    "    \n",
    "    while cap.isOpened():\n",
    "\n",
    "        success, frame = cap.read()\n",
    "\n",
    "        img, results = mediapipe_detection(frame, holistic)\n",
    "        draw_landmarks(img,results)\n",
    "#         draw_styled_landmarks(img,results)\n",
    "        \n",
    "        frame = cv2.resize(frame, (860,640))\n",
    "        cv2.imshow(\"Output\", img)\n",
    "        if cv2.waitKey(1) == ord('q'):\n",
    "            break\n",
    "\n",
    "    cap.release()\n",
    "    cv2.destroyAllWindows()"
   ]
  },
  {
   "cell_type": "code",
   "execution_count": 10,
   "id": "1c4d5ca6",
   "metadata": {},
   "outputs": [],
   "source": [
    "draw_landmarks(frame, results)\n",
    "# plt.imshow(cv2.cvtColor(frame,cv2.COLOR_BGR2RGB))"
   ]
  },
  {
   "cell_type": "markdown",
   "id": "3fc4a9d3",
   "metadata": {},
   "source": [
    "# Keypoints value"
   ]
  },
  {
   "cell_type": "code",
   "execution_count": 11,
   "id": "1d6a57cc",
   "metadata": {},
   "outputs": [
    {
     "name": "stdout",
     "output_type": "stream",
     "text": [
      "0.4036298394203186 0.4421319365501404 -0.4747008681297302 0.9999925494194031\n"
     ]
    }
   ],
   "source": [
    "print(results.pose_landmarks.landmark[0].x,\n",
    "results.pose_landmarks.landmark[0].y,\n",
    "results.pose_landmarks.landmark[0].z,\n",
    "results.pose_landmarks.landmark[0].visibility)"
   ]
  },
  {
   "cell_type": "code",
   "execution_count": 12,
   "id": "2e540617",
   "metadata": {},
   "outputs": [],
   "source": [
    "all_landmarks_pose = []\n",
    "for res in results.pose_landmarks.landmark:\n",
    "    test = np.array([res.x, res.y, res.z, res.visibility])\n",
    "    all_landmarks_pose.append(test)"
   ]
  },
  {
   "cell_type": "markdown",
   "id": "07d3133c",
   "metadata": {},
   "source": [
    "#we have pose and all_landmarks_pose same arrays just diff way of allocation"
   ]
  },
  {
   "cell_type": "code",
   "execution_count": 13,
   "id": "45f360da",
   "metadata": {},
   "outputs": [],
   "source": [
    "pose = np.array([[res.x,res.y,res.z,res.visibility] for res in results.pose_landmarks.landmark]).flatten() if results.pose_landmarks else np.zeros(33*4)\n",
    "face = np.array([[res.x,res.y,res.z] for res in results.face_landmarks.landmark]).flatten() if results.face_landmarks else np.zeros(468*3)\n",
    "lh = np.array([[res.x,res.y,res.z] for res in results.left_hand_landmarks.landmark]).flatten() if results.left_hand_landmarks else np.zeros(21*3)\n",
    "rh = np.array([[res.x,res.y,res.z] for res in results.right_hand_landmarks.landmark]).flatten() if results.right_hand_landmarks else np.zeros(21*3)"
   ]
  },
  {
   "cell_type": "code",
   "execution_count": 18,
   "id": "e84fefb4",
   "metadata": {},
   "outputs": [],
   "source": [
    "print(f\"Pose : {pose}\\n\\n\\nFace : {face}\\n\\n\\nLeft hand : {lh}\\n\\n\\nRight hand : {rh}\")"
   ]
  },
  {
   "cell_type": "code",
   "execution_count": 15,
   "id": "ed926362",
   "metadata": {},
   "outputs": [],
   "source": [
    "def extract_keypoints(results):\n",
    "    pose = np.array([[res.x,res.y,res.z,res.visibility] for res in results.pose_landmarks.landmark]).flatten() if results.pose_landmarks else np.zeros(33*4)\n",
    "    face = np.array([[res.x,res.y,res.z] for res in results.face_landmarks.landmark]).flatten() if results.face_landmarks else np.zeros(468*3)\n",
    "    lh = np.array([[res.x,res.y,res.z] for res in results.left_hand_landmarks.landmark]).flatten() if results.left_hand_landmarks else np.zeros(21*3)\n",
    "    rh = np.array([[res.x,res.y,res.z] for res in results.right_hand_landmarks.landmark]).flatten() if results.right_hand_landmarks else np.zeros(21*3)\n",
    "    return np.concatenate([pose,face,lh,rh])"
   ]
  },
  {
   "cell_type": "markdown",
   "id": "d953cd26",
   "metadata": {},
   "source": [
    "# Folder for collection of Images"
   ]
  },
  {
   "cell_type": "code",
   "execution_count": 16,
   "id": "cd647553",
   "metadata": {},
   "outputs": [],
   "source": [
    "DATA_PATH = os.path.join('MP_DATA')\n",
    "actions = np.array([\"Hello\",\"ThankYou\",\"ILoveYou\"])\n",
    "\n",
    "# no of frames that we collect, ie \n",
    "#30 videos woth of data\n",
    "no_sequence = 30\n",
    "\n",
    "# Videos are going to be 30 frames in length\n",
    "sequence_length = 30"
   ]
  },
  {
   "cell_type": "code",
   "execution_count": 17,
   "id": "5d821e8e",
   "metadata": {},
   "outputs": [],
   "source": [
    "for action in actions:\n",
    "    for seq in range(no_sequence):\n",
    "        try:\n",
    "            os.makedirs(os.path.join(DATA_PATH, action,str(seq)))\n",
    "        except:\n",
    "            pass\n",
    "        "
   ]
  },
  {
   "cell_type": "markdown",
   "id": "aa50421c",
   "metadata": {},
   "source": [
    "# Collecting Frames to be processed into actions"
   ]
  },
  {
   "cell_type": "code",
   "execution_count": 99,
   "id": "264e7a63",
   "metadata": {},
   "outputs": [
    {
     "ename": "KeyboardInterrupt",
     "evalue": "",
     "output_type": "error",
     "traceback": [
      "\u001b[1;31m---------------------------------------------------------------------------\u001b[0m",
      "\u001b[1;31mKeyboardInterrupt\u001b[0m                         Traceback (most recent call last)",
      "Input \u001b[1;32mIn [99]\u001b[0m, in \u001b[0;36m<cell line: 4>\u001b[1;34m()\u001b[0m\n\u001b[0;32m     15\u001b[0m     cv2\u001b[38;5;241m.\u001b[39mputText(img, \u001b[38;5;124m'\u001b[39m\u001b[38;5;124mStarting Collection\u001b[39m\u001b[38;5;124m'\u001b[39m,(\u001b[38;5;241m120\u001b[39m,\u001b[38;5;241m200\u001b[39m), cv2\u001b[38;5;241m.\u001b[39mFONT_HERSHEY_SIMPLEX, \u001b[38;5;241m1\u001b[39m, (\u001b[38;5;241m0\u001b[39m,\u001b[38;5;241m255\u001b[39m,\u001b[38;5;241m0\u001b[39m), \u001b[38;5;241m4\u001b[39m,cv2\u001b[38;5;241m.\u001b[39mLINE_AA)\n\u001b[0;32m     16\u001b[0m     cv2\u001b[38;5;241m.\u001b[39mputText(img, \u001b[38;5;124mf\u001b[39m\u001b[38;5;124m'\u001b[39m\u001b[38;5;124mCollecting frames for \u001b[39m\u001b[38;5;132;01m{\u001b[39;00maction\u001b[38;5;132;01m}\u001b[39;00m\u001b[38;5;124m Video Number \u001b[39m\u001b[38;5;132;01m{\u001b[39;00mseq\u001b[38;5;132;01m}\u001b[39;00m\u001b[38;5;124m'\u001b[39m,(\u001b[38;5;241m120\u001b[39m,\u001b[38;5;241m200\u001b[39m), cv2\u001b[38;5;241m.\u001b[39mFONT_HERSHEY_SIMPLEX, \u001b[38;5;241m1\u001b[39m, (\u001b[38;5;241m0\u001b[39m,\u001b[38;5;241m255\u001b[39m,\u001b[38;5;241m0\u001b[39m), \u001b[38;5;241m4\u001b[39m,cv2\u001b[38;5;241m.\u001b[39mLINE_AA)\n\u001b[1;32m---> 17\u001b[0m     \u001b[43mcv2\u001b[49m\u001b[38;5;241;43m.\u001b[39;49m\u001b[43mwaitKey\u001b[49m\u001b[43m(\u001b[49m\u001b[38;5;241;43m2000\u001b[39;49m\u001b[43m)\u001b[49m\n\u001b[0;32m     18\u001b[0m \u001b[38;5;28;01melse\u001b[39;00m:\n\u001b[0;32m     19\u001b[0m     cv2\u001b[38;5;241m.\u001b[39mputText(img,\u001b[38;5;124mf\u001b[39m\u001b[38;5;124m'\u001b[39m\u001b[38;5;124mCollecting frames for \u001b[39m\u001b[38;5;132;01m{\u001b[39;00maction\u001b[38;5;132;01m}\u001b[39;00m\u001b[38;5;124m Video Number \u001b[39m\u001b[38;5;132;01m{\u001b[39;00mseq\u001b[38;5;132;01m}\u001b[39;00m\u001b[38;5;124m'\u001b[39m, (\u001b[38;5;241m15\u001b[39m,\u001b[38;5;241m12\u001b[39m), cv2\u001b[38;5;241m.\u001b[39mFONT_HERSHEY_SCRIPT_SIMPLEX, \u001b[38;5;241m0.5\u001b[39m, (\u001b[38;5;241m0\u001b[39m,\u001b[38;5;241m0\u001b[39m,\u001b[38;5;241m255\u001b[39m), \u001b[38;5;241m4\u001b[39m, cv2\u001b[38;5;241m.\u001b[39mLINE_AA)\n",
      "\u001b[1;31mKeyboardInterrupt\u001b[0m: "
     ]
    }
   ],
   "source": [
    "cap = cv2.VideoCapture(0)\n",
    "\n",
    "#Access mediapipe model\n",
    "with mp_holistics_model.Holistic(min_detection_confidence=0.5, min_tracking_confidence=0.5) as holistic:\n",
    "    \n",
    "    for action in actions:\n",
    "        for seq in range(no_sequence):\n",
    "            for frame_num in range(sequence_length):\n",
    "\n",
    "                success, frame = cap.read()\n",
    "\n",
    "                img, results = mediapipe_detection(frame, holistic)\n",
    "                draw_styled_landmarks(img,results)\n",
    "                if frame_num == 0:\n",
    "                    cv2.putText(img, 'Starting Collection',(120,200), cv2.FONT_HERSHEY_SIMPLEX, 1, (0,255,0), 1,cv2.LINE_AA)\n",
    "                    cv2.putText(img, f'Collecting frames for {action} Video Number {seq}',(120,200), cv2.FONT_HERSHEY_SIMPLEX, 1, (0,255,0), 1,cv2.LINE_AA)\n",
    "                    cv2.waitKey(2000)\n",
    "                else:\n",
    "                    cv2.putText(img,f'Collecting frames for {action} Video Number {seq}', (15,12), cv2.FONT_HERSHEY_SCRIPT_SIMPLEX, 0.5, (0,0,255), 1, cv2.LINE_AA)\n",
    "                \n",
    "                keypoints = extract_keypoints(results)\n",
    "                npy_path = os.path.join(DATA_PATH, action, str(seq), str(frame_num))\n",
    "                np.save(npy_path, keypoints)\n",
    "                    \n",
    "                frame = cv2.resize(frame, (860,640))\n",
    "                cv2.imshow(\"Output\", img)\n",
    "                \n",
    "                if cv2.waitKey(1) == ord('q'):\n",
    "                    break\n",
    "\n",
    "    cap.release()\n",
    "    cv2.destroyAllWindows()"
   ]
  },
  {
   "cell_type": "markdown",
   "id": "cf0f4fe8",
   "metadata": {},
   "source": [
    "# Preprocessing Data"
   ]
  },
  {
   "cell_type": "code",
   "execution_count": 19,
   "id": "9007e1ce",
   "metadata": {},
   "outputs": [],
   "source": [
    "from sklearn.model_selection import train_test_split\n",
    "from tensorflow.keras.utils import to_categorical"
   ]
  },
  {
   "cell_type": "code",
   "execution_count": 21,
   "id": "e186208b",
   "metadata": {},
   "outputs": [],
   "source": [
    "label_map = {label: num for num, label in enumerate(actions)}"
   ]
  },
  {
   "cell_type": "code",
   "execution_count": 24,
   "id": "f9ee0e60",
   "metadata": {},
   "outputs": [
    {
     "data": {
      "text/plain": [
       "{'Hello': 0, 'ThankYou': 1, 'ILoveYou': 2}"
      ]
     },
     "execution_count": 24,
     "metadata": {},
     "output_type": "execute_result"
    }
   ],
   "source": [
    "label_map"
   ]
  },
  {
   "cell_type": "code",
   "execution_count": 26,
   "id": "d23e5598",
   "metadata": {},
   "outputs": [
    {
     "ename": "FileNotFoundError",
     "evalue": "[Errno 2] No such file or directory: 'MP_DATA\\\\Hello\\\\0\\\\0.npy'",
     "output_type": "error",
     "traceback": [
      "\u001b[1;31m---------------------------------------------------------------------------\u001b[0m",
      "\u001b[1;31mFileNotFoundError\u001b[0m                         Traceback (most recent call last)",
      "Input \u001b[1;32mIn [26]\u001b[0m, in \u001b[0;36m<cell line: 3>\u001b[1;34m()\u001b[0m\n\u001b[0;32m      5\u001b[0m window \u001b[38;5;241m=\u001b[39m []\n\u001b[0;32m      6\u001b[0m \u001b[38;5;28;01mfor\u001b[39;00m frame_num \u001b[38;5;129;01min\u001b[39;00m \u001b[38;5;28mrange\u001b[39m(sequence_length):\n\u001b[1;32m----> 7\u001b[0m     res \u001b[38;5;241m=\u001b[39m \u001b[43mnp\u001b[49m\u001b[38;5;241;43m.\u001b[39;49m\u001b[43mload\u001b[49m\u001b[43m(\u001b[49m\u001b[43mos\u001b[49m\u001b[38;5;241;43m.\u001b[39;49m\u001b[43mpath\u001b[49m\u001b[38;5;241;43m.\u001b[39;49m\u001b[43mjoin\u001b[49m\u001b[43m(\u001b[49m\u001b[43mDATA_PATH\u001b[49m\u001b[43m,\u001b[49m\u001b[43m \u001b[49m\u001b[43maction\u001b[49m\u001b[43m,\u001b[49m\u001b[43m \u001b[49m\u001b[38;5;28;43mstr\u001b[39;49m\u001b[43m(\u001b[49m\u001b[43mseq\u001b[49m\u001b[43m)\u001b[49m\u001b[43m,\u001b[49m\u001b[43m \u001b[49m\u001b[38;5;124;43m\"\u001b[39;49m\u001b[38;5;132;43;01m{}\u001b[39;49;00m\u001b[38;5;124;43m.npy\u001b[39;49m\u001b[38;5;124;43m\"\u001b[39;49m\u001b[38;5;241;43m.\u001b[39;49m\u001b[43mformat\u001b[49m\u001b[43m(\u001b[49m\u001b[43mframe_num\u001b[49m\u001b[43m)\u001b[49m\u001b[43m)\u001b[49m\u001b[43m)\u001b[49m\n\u001b[0;32m      8\u001b[0m     window\u001b[38;5;241m.\u001b[39mappend(res)\n\u001b[0;32m      9\u001b[0m sequences\u001b[38;5;241m.\u001b[39mappend(window)\n",
      "File \u001b[1;32mE:\\ML-AI\\Projects\\Sign language Detection\\myEnv\\lib\\site-packages\\numpy\\lib\\npyio.py:390\u001b[0m, in \u001b[0;36mload\u001b[1;34m(file, mmap_mode, allow_pickle, fix_imports, encoding)\u001b[0m\n\u001b[0;32m    388\u001b[0m     own_fid \u001b[38;5;241m=\u001b[39m \u001b[38;5;28;01mFalse\u001b[39;00m\n\u001b[0;32m    389\u001b[0m \u001b[38;5;28;01melse\u001b[39;00m:\n\u001b[1;32m--> 390\u001b[0m     fid \u001b[38;5;241m=\u001b[39m stack\u001b[38;5;241m.\u001b[39menter_context(\u001b[38;5;28;43mopen\u001b[39;49m\u001b[43m(\u001b[49m\u001b[43mos_fspath\u001b[49m\u001b[43m(\u001b[49m\u001b[43mfile\u001b[49m\u001b[43m)\u001b[49m\u001b[43m,\u001b[49m\u001b[43m \u001b[49m\u001b[38;5;124;43m\"\u001b[39;49m\u001b[38;5;124;43mrb\u001b[39;49m\u001b[38;5;124;43m\"\u001b[39;49m\u001b[43m)\u001b[49m)\n\u001b[0;32m    391\u001b[0m     own_fid \u001b[38;5;241m=\u001b[39m \u001b[38;5;28;01mTrue\u001b[39;00m\n\u001b[0;32m    393\u001b[0m \u001b[38;5;66;03m# Code to distinguish from NumPy binary files and pickles.\u001b[39;00m\n",
      "\u001b[1;31mFileNotFoundError\u001b[0m: [Errno 2] No such file or directory: 'MP_DATA\\\\Hello\\\\0\\\\0.npy'"
     ]
    }
   ],
   "source": [
    "sequences, labels = [],[]\n",
    "\n",
    "for action in actions:\n",
    "    for seq in range(no_sequence):\n",
    "        window = []\n",
    "        for frame_num in range(sequence_length):\n",
    "            res = np.load(os.path.join(DATA_PATH, action, str(seq), \"{}.npy\".format(frame_num)))\n",
    "            window.append(res)\n",
    "        sequences.append(window)\n",
    "        labels.append(label_map[action])"
   ]
  },
  {
   "cell_type": "code",
   "execution_count": 30,
   "id": "2af0161b",
   "metadata": {},
   "outputs": [
    {
     "data": {
      "text/plain": [
       "(0,)"
      ]
     },
     "execution_count": 30,
     "metadata": {},
     "output_type": "execute_result"
    }
   ],
   "source": [
    "np.array(sequences).shape"
   ]
  },
  {
   "cell_type": "code",
   "execution_count": 32,
   "id": "ab1661b0",
   "metadata": {},
   "outputs": [
    {
     "data": {
      "text/plain": [
       "(0,)"
      ]
     },
     "execution_count": 32,
     "metadata": {},
     "output_type": "execute_result"
    }
   ],
   "source": [
    "np.array(labels).shape"
   ]
  },
  {
   "cell_type": "code",
   "execution_count": 33,
   "id": "214dc689",
   "metadata": {},
   "outputs": [],
   "source": [
    "X = np.array(sequences)"
   ]
  },
  {
   "cell_type": "code",
   "execution_count": 35,
   "id": "a55526dc",
   "metadata": {},
   "outputs": [],
   "source": [
    "y = to_categorical(labels).astype(int)"
   ]
  },
  {
   "cell_type": "code",
   "execution_count": 37,
   "id": "0c82bebc",
   "metadata": {},
   "outputs": [],
   "source": [
    "X_train, X_test, y_train, t_test = train_test_split(X,y,test_size=0.05)"
   ]
  },
  {
   "cell_type": "markdown",
   "id": "2e984cb6",
   "metadata": {},
   "source": [
    "# Building Neural Network "
   ]
  },
  {
   "cell_type": "code",
   "execution_count": 40,
   "id": "65e2a1b7",
   "metadata": {},
   "outputs": [],
   "source": [
    "from tensorflow.keras.models import Sequential\n",
    "from tensorflow.keras.layers import LSTM, Dense\n",
    "from tensorflow.keras.callbacks import TensorBoard"
   ]
  },
  {
   "cell_type": "code",
   "execution_count": 41,
   "id": "882d1985",
   "metadata": {},
   "outputs": [],
   "source": [
    "log_dir = os.path.join('Logs')\n",
    "tb_callback = TensorBoard(log_dir = log_dir)"
   ]
  },
  {
   "cell_type": "code",
   "execution_count": 43,
   "id": "92750898",
   "metadata": {},
   "outputs": [
    {
     "name": "stdout",
     "output_type": "stream",
     "text": [
      "WARNING:tensorflow:Layer lstm_3 will not use cuDNN kernels since it doesn't meet the criteria. It will use a generic GPU kernel as fallback when running on GPU.\n",
      "WARNING:tensorflow:Layer lstm_4 will not use cuDNN kernels since it doesn't meet the criteria. It will use a generic GPU kernel as fallback when running on GPU.\n",
      "WARNING:tensorflow:Layer lstm_5 will not use cuDNN kernels since it doesn't meet the criteria. It will use a generic GPU kernel as fallback when running on GPU.\n"
     ]
    }
   ],
   "source": [
    "model = Sequential()\n",
    "model.add(LSTM(64, return_sequences = True, activation = 'relu', input_shape=(30,1662)))\n",
    "model.add(LSTM(128, return_sequences = True, activation = 'relu'))\n",
    "model.add(LSTM(64, return_sequences = True, activation = 'relu'))\n",
    "model.add(Dense(64, activation = 'relu'))\n",
    "model.add(Dense(32, activation = 'relu'))\n",
    "model.add(Dense(actions.shape[0], activation = 'softmax'))"
   ]
  },
  {
   "cell_type": "code",
   "execution_count": 45,
   "id": "31e3fe7c",
   "metadata": {},
   "outputs": [
    {
     "data": {
      "text/plain": [
       "'Hello'"
      ]
     },
     "execution_count": 45,
     "metadata": {},
     "output_type": "execute_result"
    }
   ],
   "source": [
    "res = [.7,0.2,0.1]\n",
    "actions[np.argmax(res)] #np.argmax return the index of the max element in the array"
   ]
  },
  {
   "cell_type": "code",
   "execution_count": 46,
   "id": "c747454e",
   "metadata": {},
   "outputs": [],
   "source": [
    "model.compile(optimizer='Adam', loss = 'categorical_crossentropy', metrics=['categorical_accuracy'])"
   ]
  },
  {
   "cell_type": "code",
   "execution_count": 48,
   "id": "6d49be40",
   "metadata": {},
   "outputs": [],
   "source": [
    "model.fit(X_train, y_train, epochs = 2000, callbacks = [tb_callback])"
   ]
  },
  {
   "cell_type": "code",
   "execution_count": 50,
   "id": "2b87edb2",
   "metadata": {},
   "outputs": [],
   "source": [
    "model.summary()"
   ]
  },
  {
   "cell_type": "markdown",
   "id": "4cfabde1",
   "metadata": {},
   "source": [
    "# Lets Predict"
   ]
  },
  {
   "cell_type": "code",
   "execution_count": null,
   "id": "76f90358",
   "metadata": {},
   "outputs": [],
   "source": [
    "res = model.predict(X_test)"
   ]
  },
  {
   "cell_type": "code",
   "execution_count": null,
   "id": "9a8c2ed2",
   "metadata": {},
   "outputs": [],
   "source": [
    "actions[np.argmax(res[0])]"
   ]
  },
  {
   "cell_type": "code",
   "execution_count": null,
   "id": "ac755421",
   "metadata": {},
   "outputs": [],
   "source": [
    "actions[np.argmax(y_test[0])]"
   ]
  },
  {
   "cell_type": "markdown",
   "id": "ebc6e310",
   "metadata": {},
   "source": [
    "# Saving the Model"
   ]
  },
  {
   "cell_type": "code",
   "execution_count": null,
   "id": "0777069c",
   "metadata": {},
   "outputs": [],
   "source": [
    "model.save('Sign_Language_Predictor.model')"
   ]
  },
  {
   "cell_type": "code",
   "execution_count": null,
   "id": "c82115a2",
   "metadata": {},
   "outputs": [],
   "source": [
    "del model #this will delete the trained model"
   ]
  },
  {
   "cell_type": "code",
   "execution_count": null,
   "id": "327ff5fb",
   "metadata": {},
   "outputs": [],
   "source": [
    "model.load_weights('Sign_Language_Predictor.model')"
   ]
  },
  {
   "cell_type": "markdown",
   "id": "8eee113f",
   "metadata": {},
   "source": [
    "# Evaluating using Confusion Matrix"
   ]
  },
  {
   "cell_type": "code",
   "execution_count": 51,
   "id": "c1c94d80",
   "metadata": {},
   "outputs": [],
   "source": [
    "from sklearn.metrics import multilabel_confusion_matrix, accuracy_score"
   ]
  },
  {
   "cell_type": "code",
   "execution_count": null,
   "id": "1e5e4cf3",
   "metadata": {},
   "outputs": [],
   "source": [
    "yhat = model.predict(X_test)"
   ]
  },
  {
   "cell_type": "code",
   "execution_count": 53,
   "id": "e9f4d4ff",
   "metadata": {},
   "outputs": [],
   "source": [
    "ytrue = np.argmax(y_test, axis = 1).tolist()\n",
    "yhat = np.argmax(yhat, axis = 1).tolist()"
   ]
  },
  {
   "cell_type": "code",
   "execution_count": null,
   "id": "91fe04bd",
   "metadata": {},
   "outputs": [],
   "source": [
    "multilabel_confusion_matrix(yture, yhat)"
   ]
  },
  {
   "cell_type": "code",
   "execution_count": null,
   "id": "8087b4bf",
   "metadata": {},
   "outputs": [],
   "source": [
    "accuracy_score(ytrue,yhat)"
   ]
  },
  {
   "cell_type": "markdown",
   "id": "9996e46c",
   "metadata": {},
   "source": [
    "# Ending... Testing in real "
   ]
  },
  {
   "cell_type": "code",
   "execution_count": 59,
   "id": "a3fa1805",
   "metadata": {},
   "outputs": [],
   "source": [
    "colors = [(245,117,16),(117,245,16),(16,117,245)]\n",
    "def prob_stylish_visualizer(res, actions, input_frame, colors):\n",
    "    output_frame = input_frame.copy()\n",
    "    for num, prob in enumerate(res):\n",
    "        cv2.rectangle(output_frame, (0,60+num*40), (int(prob*100), 90+num*40), colors[num], -1)\n",
    "        cv2.putText(output_frame, actions[num], (0,85+num*40),cv2.FONT_HERSHEY_SIMPLEX, 1, (255,255,255), 2, cv2.LINE_AA)\n",
    "        \n",
    "    return output_frame"
   ]
  },
  {
   "cell_type": "code",
   "execution_count": null,
   "id": "49512063",
   "metadata": {},
   "outputs": [],
   "source": [
    "sequence = []\n",
    "sentence = []\n",
    "thresold = 0.4\n",
    "\n",
    "\n",
    "\n",
    "cap = cv2.VideoCapture(0)\n",
    "\n",
    "#Access mediapipe model\n",
    "with mp_holistics_model.Holistic(min_detection_confidence=0.5, min_tracking_confidence=0.5) as holistic:\n",
    "    \n",
    "    while cap.isOpened():\n",
    "\n",
    "        success, frame = cap.read()\n",
    "\n",
    "        img, results = mediapipe_detection(frame, holistic)\n",
    "        draw_styled_landmarks(img,results)\n",
    "        \n",
    "        keypoints = extract_keypoints(results)\n",
    "        sequence.insert(0,keypoints)\n",
    "        sequence = sequence[:30]\n",
    "        \n",
    "        if len(sequence) == 30:\n",
    "            res = model.predict(np.expand_dims(sequence, axis = 0))[0]\n",
    "            print(res)\n",
    "        \n",
    "        \n",
    "        if res[np.argmax(res)] > thresold:  #max value is > thresold which implies max possibility\n",
    "            if len(sentence) > 0:\n",
    "                if actions[np.argmax(res)] != sentence[-1]:\n",
    "                    sentence.append[actions[np.argmax(res)]]\n",
    "            else:\n",
    "                sentence.append(actions[np.argmax(res)])\n",
    "                \n",
    "            #if we get the same word we skip it and do not append, only append if word is diff or empty list\n",
    "            \n",
    "        \n",
    "        if len(sentence) > 5:\n",
    "            sentence = sentence[-5:]\n",
    "            \n",
    "        image = prob_stylish_visualizer(res, actions, image, colors)\n",
    "        \n",
    "        cv2.rectangle(img, (0,0), (640,40), (245,117,16), -1)\n",
    "        cv2.putText(img, ' '.join(sentence), (3,30), cv2.FONT_HERSHEY_SIMPLEX, 1, (255,255,255), 2, cv2.LINE_AA)\n",
    "        \n",
    "        \n",
    "        frame = cv2.resize(frame, (860,640))\n",
    "        cv2.imshow(\"Output\", img)\n",
    "        if cv2.waitKey(1) == ord('q'):\n",
    "            break\n",
    "\n",
    "    cap.release()\n",
    "    cv2.destroyAllWindows()"
   ]
  },
  {
   "cell_type": "code",
   "execution_count": 55,
   "id": "5c2723a2",
   "metadata": {},
   "outputs": [],
   "source": [
    "# \"\"\"\n",
    "# our model is expecting dimension of - (nums_sequence, 30, 1662)\n",
    "# if we give directly X_test(which is of shape (30,1662) it will return error)\n",
    "# therefore I have used np.expand_dims(X_test[0], axis = 0) , as it converts the shape to (1 ,30 , 1662)\n",
    "# \"\"\""
   ]
  },
  {
   "cell_type": "code",
   "execution_count": 57,
   "id": "8b474838",
   "metadata": {},
   "outputs": [],
   "source": [
    "#test both\n",
    "\n",
    "# np.expand_dims(X_test[0], axis = 1)\n",
    "np.expand_dims(X_test[0], axis = 0)\n"
   ]
  },
  {
   "cell_type": "code",
   "execution_count": null,
   "id": "98b277a2",
   "metadata": {},
   "outputs": [],
   "source": []
  }
 ],
 "metadata": {
  "kernelspec": {
   "display_name": "myEnv",
   "language": "python",
   "name": "myenv"
  },
  "language_info": {
   "codemirror_mode": {
    "name": "ipython",
    "version": 3
   },
   "file_extension": ".py",
   "mimetype": "text/x-python",
   "name": "python",
   "nbconvert_exporter": "python",
   "pygments_lexer": "ipython3",
   "version": "3.10.0"
  }
 },
 "nbformat": 4,
 "nbformat_minor": 5
}
